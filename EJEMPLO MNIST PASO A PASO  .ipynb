{
 "cells": [
  {
   "cell_type": "markdown",
   "metadata": {},
   "source": [
    "**IMPORTAMOS LIBRERIAS**"
   ]
  },
  {
   "cell_type": "code",
   "execution_count": 1,
   "metadata": {},
   "outputs": [],
   "source": [
    "import tensorflow as tf\n",
    "\n",
    "# Set de datos MNIST \n",
    "\n",
    "from tensorflow.examples.tutorials.mnist import input_data"
   ]
  },
  {
   "cell_type": "markdown",
   "metadata": {},
   "source": [
    " **Zona de lectura de nuestra carpeta de imagenes** "
   ]
  },
  {
   "cell_type": "code",
   "execution_count": 2,
   "metadata": {},
   "outputs": [
    {
     "name": "stdout",
     "output_type": "stream",
     "text": [
      "WARNING:tensorflow:From <ipython-input-2-6c6f0afe3cb1>:1: read_data_sets (from tensorflow.contrib.learn.python.learn.datasets.mnist) is deprecated and will be removed in a future version.\n",
      "Instructions for updating:\n",
      "Please use alternatives such as official/mnist/dataset.py from tensorflow/models.\n",
      "WARNING:tensorflow:From /home/alexbonella2806/anaconda3/envs/py36/lib/python3.6/site-packages/tensorflow/contrib/learn/python/learn/datasets/mnist.py:260: maybe_download (from tensorflow.contrib.learn.python.learn.datasets.base) is deprecated and will be removed in a future version.\n",
      "Instructions for updating:\n",
      "Please write your own downloading logic.\n",
      "WARNING:tensorflow:From /home/alexbonella2806/anaconda3/envs/py36/lib/python3.6/site-packages/tensorflow/contrib/learn/python/learn/datasets/mnist.py:262: extract_images (from tensorflow.contrib.learn.python.learn.datasets.mnist) is deprecated and will be removed in a future version.\n",
      "Instructions for updating:\n",
      "Please use tf.data to implement this functionality.\n",
      "Extracting MNIST_data/train-images-idx3-ubyte.gz\n",
      "WARNING:tensorflow:From /home/alexbonella2806/anaconda3/envs/py36/lib/python3.6/site-packages/tensorflow/contrib/learn/python/learn/datasets/mnist.py:267: extract_labels (from tensorflow.contrib.learn.python.learn.datasets.mnist) is deprecated and will be removed in a future version.\n",
      "Instructions for updating:\n",
      "Please use tf.data to implement this functionality.\n",
      "Extracting MNIST_data/train-labels-idx1-ubyte.gz\n",
      "WARNING:tensorflow:From /home/alexbonella2806/anaconda3/envs/py36/lib/python3.6/site-packages/tensorflow/contrib/learn/python/learn/datasets/mnist.py:110: dense_to_one_hot (from tensorflow.contrib.learn.python.learn.datasets.mnist) is deprecated and will be removed in a future version.\n",
      "Instructions for updating:\n",
      "Please use tf.one_hot on tensors.\n",
      "Extracting MNIST_data/t10k-images-idx3-ubyte.gz\n",
      "Extracting MNIST_data/t10k-labels-idx1-ubyte.gz\n",
      "WARNING:tensorflow:From /home/alexbonella2806/anaconda3/envs/py36/lib/python3.6/site-packages/tensorflow/contrib/learn/python/learn/datasets/mnist.py:290: DataSet.__init__ (from tensorflow.contrib.learn.python.learn.datasets.mnist) is deprecated and will be removed in a future version.\n",
      "Instructions for updating:\n",
      "Please use alternatives such as official/mnist/dataset.py from tensorflow/models.\n"
     ]
    }
   ],
   "source": [
    "mnist=input_data.read_data_sets(\"MNIST_data/\", one_hot=True) "
   ]
  },
  {
   "cell_type": "markdown",
   "metadata": {},
   "source": [
    "# **Zona de construccion de nuestra red neuronal**\n",
    "\n",
    "En esta seccion vamos a declarar todos los elementos que van a conformar nuestra red"
   ]
  },
  {
   "cell_type": "markdown",
   "metadata": {},
   "source": [
    "# La variable X sera nuestra matriz de entrada \n",
    "\n",
    "Note que el tamaño de nuestra matriz sera  de  `[None,784]` donde `None` sera el numero de imagenes que inicialmente no sabemos cuantas son , pero con esta palabra de alguna manera le decimos a nuestra variable de entrada que entre por bloques y por otro lado el segundo argumento sera `784` que vendrian siendo los pixeles de nuestras imagenes que para este caso seran `28x28=784`.\n",
    " "
   ]
  },
  {
   "cell_type": "code",
   "execution_count": 3,
   "metadata": {},
   "outputs": [],
   "source": [
    "x=tf.placeholder(tf.float32,[None,784]) #Imagen del numero descompuesta a un vector\n"
   ]
  },
  {
   "cell_type": "markdown",
   "metadata": {},
   "source": [
    "## La variable P sera nuestros pesos o `W`\n",
    "\n",
    "Note que va a ser un tipo de dato variable y la vamos a inicializar con `ceros` y va a ser una matriz de 784 renglones y 10 columnas `(labels=0,1,2,...,8,9,10)` , estamos conenctando nuestra primera capa que tiene 784 pixeles con nuestra segunda capa que tiene 10 elementos en un vector ."
   ]
  },
  {
   "cell_type": "code",
   "execution_count": 4,
   "metadata": {},
   "outputs": [],
   "source": [
    "P=tf.Variable(tf.zeros([784,10])) #Matriz de pesos, 784 para recibir la imagen, 10 por las posible salidas\n"
   ]
  },
  {
   "cell_type": "markdown",
   "metadata": {},
   "source": [
    "# La variable **b** sera nuestro *`BIAS`*\n",
    "\n",
    "Es el sesgo de nuestra red neuronal."
   ]
  },
  {
   "cell_type": "code",
   "execution_count": 5,
   "metadata": {},
   "outputs": [],
   "source": [
    "b=tf.Variable(tf.zeros([10])) #Vector con BIAS"
   ]
  },
  {
   "cell_type": "markdown",
   "metadata": {},
   "source": [
    "# La variable **y** sera nuestro *`capa de salida`*\n",
    "\n",
    "**`Recordar`** Que cuando estamos trabajando con redes neuronales estas se encuentran conformadas por nuestra capa de entrada, capa oculta y capa de salida.\n",
    "\n",
    "Por otro lado nuestra operacion matematica sera la multiplicacion del vector de entrada por nuestra matriz de pesos :\n",
    "\n",
    "**`y=matmul(x+w)+b`**\n"
   ]
  },
  {
   "cell_type": "code",
   "execution_count": 6,
   "metadata": {},
   "outputs": [],
   "source": [
    "y=tf.matmul(x,P)+b #La operacion que se hara en los nodos que reciben entradas"
   ]
  },
  {
   "cell_type": "markdown",
   "metadata": {},
   "source": [
    "# Matriz con las etiquetas reales\n",
    "\n",
    "Esta matriz va a tener todas las etiquetas  `respuestas correctas` de nuestro set de datos y a su vez la vamos a usar para entrenar nnuestra red neuronal."
   ]
  },
  {
   "cell_type": "code",
   "execution_count": 7,
   "metadata": {},
   "outputs": [],
   "source": [
    "yR=tf.placeholder(tf.float32,[None,10]) # Matriz con las etiquetas REALES del set de datos"
   ]
  },
  {
   "cell_type": "markdown",
   "metadata": {},
   "source": [
    "# Definir la función de costo entropia cruzada (Cross Entropy) para poder medir el error. La salida será con Softmax\n",
    "\n",
    "* **`Softmax`** lo que va a hacer es convertir nuestro vector de 10 elementos y nos lo va a mostrar en probabilidades , es decir el numero que estemos ingresando a nuestra red tendra la probabilidad mas alta . \n",
    "\n",
    "* La funcion con la que vamos a estar midiendo el error en cada una de nuestras predicciones va a ser  `cross_entropy_with_logits` y le vamos a decir que `(labels=yR,logits=y)` nuestra red neuronal genero `y` comparalo con `yR` y dime que tan bien o que tan mal esta mi algoritmo para que pueda hacer los ajustes correspondientes para mejorar la prediccion\n",
    "\n",
    "* El costo es la funcion que deseamos reducir a lo mas minimo es decir que tienda a `cero`\n",
    "\n",
    "* Por ultimo nuestro ***optimizador*** el cual va a utilizar el metodo de `gradiente descendiente` para minimizar la funcion `costo` y ver como ajustar nuestros pesos en nuestra matriz para reducirlo. "
   ]
  },
  {
   "cell_type": "code",
   "execution_count": 8,
   "metadata": {},
   "outputs": [
    {
     "name": "stdout",
     "output_type": "stream",
     "text": [
      "WARNING:tensorflow:From <ipython-input-8-97f78fb142ca>:1: softmax_cross_entropy_with_logits (from tensorflow.python.ops.nn_ops) is deprecated and will be removed in a future version.\n",
      "Instructions for updating:\n",
      "\n",
      "Future major versions of TensorFlow will allow gradients to flow\n",
      "into the labels input on backprop by default.\n",
      "\n",
      "See `tf.nn.softmax_cross_entropy_with_logits_v2`.\n",
      "\n"
     ]
    }
   ],
   "source": [
    "softmax=tf.nn.softmax_cross_entropy_with_logits(labels=yR,logits=y)\n",
    "costo=tf.reduce_mean(softmax)\n",
    "optimizador=tf.train.GradientDescentOptimizer(0.5).minimize(costo)"
   ]
  },
  {
   "cell_type": "markdown",
   "metadata": {},
   "source": [
    "# Correr la gráfica computacional\n",
    "\n",
    "1. **`Prediccion`** En esta parte lo que estamos haciendo es que de todas las probabilidades que nos dio **`softmax`** nos va a traer el numero mas alto y nos lo va a comparar el vector de salidas reales con la que estamos calculando.\n",
    "\n",
    "2. **`accuracy`** Es para medir nuestro porcentaje de certeza .\n"
   ]
  },
  {
   "cell_type": "code",
   "execution_count": 9,
   "metadata": {},
   "outputs": [],
   "source": [
    "#Nos da arreglo de booleanos para decirnos cuales estan bien y cuales no\n",
    "prediccion = tf.equal(tf.argmax(y, 1), tf.argmax(yR, 1)) \n",
    "#Nos da el porcentaje sobre el arreglo de prediccion\n",
    "accuracy = tf.reduce_mean(tf.cast(prediccion, tf.float32))\n",
    "Produccion = tf.argmax(y,1)\n",
    "init=tf.global_variables_initializer() # Inicializamos variables"
   ]
  },
  {
   "cell_type": "markdown",
   "metadata": {},
   "source": [
    "# Entrenando el  algoritmo\n",
    "\n",
    "Esta funcion que vamos a usar es  para ver que tan bien va a aprendiendo nuestro modelo , **`Recordar`** que nuestras variables **`placeholder`** debemos alimentarlas con `feed_dict`"
   ]
  },
  {
   "cell_type": "code",
   "execution_count": 10,
   "metadata": {},
   "outputs": [],
   "source": [
    "def avance(epoca_i, sess, last_features, last_labels):\n",
    "    costoActual = sess.run(costo,feed_dict={x: last_features, yR: last_labels})\n",
    "    Certeza = sess.run(accuracy,feed_dict={x:mnist.validation.images,yR: mnist.validation.labels})\n",
    "    print('Epoca: {:<4} - Costo: {:<8.3} Certeza: {:<5.3}'.format(epoca_i,costoActual,Certeza))"
   ]
  },
  {
   "cell_type": "markdown",
   "metadata": {},
   "source": [
    "# Seccion de codigo de mas importancia dentro nuestro modelo\n",
    "\n",
    "1. Creamos nuestra sesion para correr nuestro modelo\n",
    "2. Vamos a usar 1000 epocas \n",
    "3. Le vamos a decir a nuestro modelo que nos evalue por lotes debido a que si usamos todas nuestras imagenes no requeriria un alto costo computacional entonces usamos `next_batch(100)` en donde `lote x` sera nuestras imagenes y `lotey ` seran nuestras etiquetas de estas imagenes y le vamos a decir que nuestros lotes queremos que sean de 10 elementos .\n",
    "4. Vamos a correr nuestro optimizador y lo alimentamos con nuestros lotes que van a estar encadenados con todos los procedimientos anteriores.\n",
    "5. Vamos a decirle a nuestro algoritmo que cada vez que nuestra `epoca==50` nos llame a la funcion avance para medir nuestra certeza.\n",
    "6. `Zona de impresiones` tener en cuenta que en esta zona vamos a evaluar son nuestros datos de testing."
   ]
  },
  {
   "cell_type": "code",
   "execution_count": 11,
   "metadata": {},
   "outputs": [
    {
     "name": "stdout",
     "output_type": "stream",
     "text": [
      "Epoca: 0    - Costo: 1.76     Certeza: 0.36 \n",
      "Epoca: 50   - Costo: 0.423    Certeza: 0.88 \n",
      "Epoca: 100  - Costo: 0.372    Certeza: 0.902\n",
      "Epoca: 150  - Costo: 0.338    Certeza: 0.905\n",
      "Epoca: 200  - Costo: 0.402    Certeza: 0.905\n",
      "Epoca: 250  - Costo: 0.308    Certeza: 0.91 \n",
      "Epoca: 300  - Costo: 0.332    Certeza: 0.906\n",
      "Epoca: 350  - Costo: 0.387    Certeza: 0.916\n",
      "Epoca: 400  - Costo: 0.31     Certeza: 0.917\n",
      "Epoca: 450  - Costo: 0.27     Certeza: 0.917\n",
      "Epoca: 500  - Costo: 0.293    Certeza: 0.921\n",
      "Epoca: 550  - Costo: 0.275    Certeza: 0.92 \n",
      "Epoca: 600  - Costo: 0.242    Certeza: 0.92 \n",
      "Epoca: 650  - Costo: 0.214    Certeza: 0.922\n",
      "Epoca: 700  - Costo: 0.385    Certeza: 0.921\n",
      "Epoca: 750  - Costo: 0.284    Certeza: 0.92 \n",
      "Epoca: 800  - Costo: 0.345    Certeza: 0.922\n",
      "Epoca: 850  - Costo: 0.241    Certeza: 0.923\n",
      "Epoca: 900  - Costo: 0.389    Certeza: 0.923\n",
      "Epoca: 950  - Costo: 0.265    Certeza: 0.923\n",
      "RESULTADO FINAL:  0.9218\n",
      "Resultado de una imagen [1]\n"
     ]
    }
   ],
   "source": [
    "with tf.Session() as sess:\n",
    "    sess.run(init)\n",
    "    for epoca_i in range(1000):\n",
    "        lotex, lotey = mnist.train.next_batch(200)\n",
    "        sess.run(optimizador, feed_dict={x: lotex, yR: lotey})\n",
    "        if (epoca_i%50==0):\n",
    "            avance(epoca_i, sess, lotex, lotey)\n",
    "    print('RESULTADO FINAL: ',sess.run(accuracy, feed_dict={x: mnist.test.images,yR: mnist.test.labels}))\n",
    "    print ('Resultado de una imagen',sess.run(Produccion,feed_dict={x: mnist.test.images[5].reshape(1,784)}))"
   ]
  },
  {
   "cell_type": "code",
   "execution_count": 12,
   "metadata": {},
   "outputs": [
    {
     "data": {
      "text/plain": [
       "array([0., 1., 0., 0., 0., 0., 0., 0., 0., 0.])"
      ]
     },
     "execution_count": 12,
     "metadata": {},
     "output_type": "execute_result"
    }
   ],
   "source": [
    "mnist.test.labels[5]"
   ]
  },
  {
   "cell_type": "markdown",
   "metadata": {},
   "source": [
    "**FINAL**"
   ]
  }
 ],
 "metadata": {
  "kernelspec": {
   "display_name": "Python 3",
   "language": "python",
   "name": "python3"
  },
  "language_info": {
   "codemirror_mode": {
    "name": "ipython",
    "version": 3
   },
   "file_extension": ".py",
   "mimetype": "text/x-python",
   "name": "python",
   "nbconvert_exporter": "python",
   "pygments_lexer": "ipython3",
   "version": "3.6.7"
  }
 },
 "nbformat": 4,
 "nbformat_minor": 2
}
