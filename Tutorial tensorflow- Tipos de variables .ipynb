{
 "cells": [
  {
   "cell_type": "markdown",
   "metadata": {},
   "source": [
    "**IMPORTAMOS LIBRERIAS**"
   ]
  },
  {
   "cell_type": "code",
   "execution_count": 1,
   "metadata": {},
   "outputs": [],
   "source": [
    "import tensorflow as tf"
   ]
  },
  {
   "cell_type": "markdown",
   "metadata": {},
   "source": [
    "**1) Tipo de variable constante**\n",
    "\n",
    "Puede ser un vector o numero de tipo flotante o entero y es una variable que no va a cambiar en toda la ejecucion de nuestra variable .\n",
    "\n",
    "***La sintaxis seria de la siguiente forma:***\n",
    "\n",
    "`tf.constant(['value', 'dtype=None', 'shape=None', \"name='Const'\", 'verify_shape=False'])`\n"
   ]
  },
  {
   "cell_type": "code",
   "execution_count": 3,
   "metadata": {},
   "outputs": [
    {
     "data": {
      "text/plain": [
       "<tf.Tensor 'constante1:0' shape=(3,) dtype=float32>"
      ]
     },
     "execution_count": 3,
     "metadata": {},
     "output_type": "execute_result"
    }
   ],
   "source": [
    "tf.constant([1.0,2.0,3.0],name='constante1')"
   ]
  },
  {
   "cell_type": "markdown",
   "metadata": {},
   "source": [
    "**2) Tipo de variable placeholder**\n",
    "\n",
    "Vamos a hacer uso de esta variable practicamente le vamos a decir a nuestro programa , quiero que me hagas una variable que este vacia en un inicio pero la vamos a ir llenando a medida que se vaya ejecutando nuestro codigo.\n",
    "\n",
    "*Normalmente los placeholder lo estaremos usando para nuestras input data*\n",
    "\n",
    "***La sintaxis seria de la siguiente forma:***\n",
    "\n",
    "`tf.placeholder(dtype, shape=None, name=None)`"
   ]
  },
  {
   "cell_type": "code",
   "execution_count": 4,
   "metadata": {},
   "outputs": [],
   "source": [
    "constanteph=tf.placeholder(tf.float32, name='constanteph')"
   ]
  },
  {
   "cell_type": "code",
   "execution_count": 5,
   "metadata": {},
   "outputs": [
    {
     "name": "stdout",
     "output_type": "stream",
     "text": [
      "Tensor(\"constanteph:0\", dtype=float32)\n"
     ]
    }
   ],
   "source": [
    "print(constanteph)"
   ]
  },
  {
   "cell_type": "code",
   "execution_count": 6,
   "metadata": {},
   "outputs": [],
   "source": [
    "# Note que todavia no nos sale nada \"0\" por que todavia no le hemos asignado un valor "
   ]
  },
  {
   "cell_type": "code",
   "execution_count": 7,
   "metadata": {},
   "outputs": [],
   "source": [
    "variable=tf.Variable(3,dtype=tf.float32,name='variable1')"
   ]
  },
  {
   "cell_type": "code",
   "execution_count": 8,
   "metadata": {},
   "outputs": [
    {
     "name": "stdout",
     "output_type": "stream",
     "text": [
      "<tf.Variable 'variable1:0' shape=() dtype=float32_ref>\n"
     ]
    }
   ],
   "source": [
    "print(variable)"
   ]
  },
  {
   "cell_type": "markdown",
   "metadata": {},
   "source": [
    "# Creamos una matriz"
   ]
  },
  {
   "cell_type": "code",
   "execution_count": 9,
   "metadata": {},
   "outputs": [],
   "source": [
    "\n",
    "matriz=tf.zeros([3, 4], tf.int32, name='matriz')"
   ]
  },
  {
   "cell_type": "code",
   "execution_count": 10,
   "metadata": {},
   "outputs": [
    {
     "name": "stdout",
     "output_type": "stream",
     "text": [
      "Tensor(\"matriz:0\", shape=(3, 4), dtype=int32)\n"
     ]
    }
   ],
   "source": [
    "print(matriz)"
   ]
  },
  {
   "cell_type": "markdown",
   "metadata": {},
   "source": [
    "# Momento de inicializar las variables "
   ]
  },
  {
   "cell_type": "code",
   "execution_count": 11,
   "metadata": {},
   "outputs": [],
   "source": [
    "inicializar=tf.global_variables_initializer()"
   ]
  },
  {
   "cell_type": "markdown",
   "metadata": {},
   "source": [
    "**Creamos nuestra variable `*sess*`**\n",
    "\n",
    "Esta variable sera la encargada de correr todo nuestra grafica computacional"
   ]
  },
  {
   "cell_type": "code",
   "execution_count": 12,
   "metadata": {},
   "outputs": [],
   "source": [
    "sess=tf.Session()"
   ]
  },
  {
   "cell_type": "code",
   "execution_count": 13,
   "metadata": {},
   "outputs": [],
   "source": [
    "# Ahora ya estamos listos para correr nuestra grafica computacional"
   ]
  },
  {
   "cell_type": "code",
   "execution_count": 17,
   "metadata": {},
   "outputs": [],
   "source": [
    "sess.run(inicializar)"
   ]
  },
  {
   "cell_type": "code",
   "execution_count": 19,
   "metadata": {},
   "outputs": [
    {
     "name": "stdout",
     "output_type": "stream",
     "text": [
      "[[0 0 0 0]\n",
      " [0 0 0 0]\n",
      " [0 0 0 0]]\n"
     ]
    }
   ],
   "source": [
    "print(sess.run(matriz))"
   ]
  },
  {
   "cell_type": "code",
   "execution_count": 20,
   "metadata": {},
   "outputs": [
    {
     "name": "stdout",
     "output_type": "stream",
     "text": [
      "[1. 2. 3.]\n"
     ]
    }
   ],
   "source": [
    "print(sess.run(tf.constant([1.0,2.0,3.0],name='constante1')))"
   ]
  },
  {
   "cell_type": "markdown",
   "metadata": {},
   "source": [
    "# Uso del placeholder"
   ]
  },
  {
   "cell_type": "code",
   "execution_count": 21,
   "metadata": {},
   "outputs": [],
   "source": [
    "constante=tf.constant([1.0,2.0,3.0],name='constante1')"
   ]
  },
  {
   "cell_type": "code",
   "execution_count": 22,
   "metadata": {},
   "outputs": [],
   "source": [
    "multiplicacion=constanteph*constante"
   ]
  },
  {
   "cell_type": "markdown",
   "metadata": {},
   "source": [
    "Note que nuestra variable `placeholder` debemos alimentarla con `feed_dict` en este caso un diccionario"
   ]
  },
  {
   "cell_type": "code",
   "execution_count": 28,
   "metadata": {},
   "outputs": [
    {
     "name": "stdout",
     "output_type": "stream",
     "text": [
      "[[15. 30. 45.]\n",
      " [10. 20. 30.]\n",
      " [ 5. 10. 15.]]\n"
     ]
    }
   ],
   "source": [
    "\n",
    "print(sess.run(multiplicacion,feed_dict={constanteph:[[15.],[10.],[5.]]}))"
   ]
  },
  {
   "cell_type": "markdown",
   "metadata": {},
   "source": [
    "# Operaciones matriciales"
   ]
  },
  {
   "cell_type": "markdown",
   "metadata": {},
   "source": [
    "***Multiplicacion de matrices necesita lleva la forma (M,N)x(N,M)=M,M***\n"
   ]
  },
  {
   "cell_type": "code",
   "execution_count": 29,
   "metadata": {},
   "outputs": [
    {
     "name": "stdout",
     "output_type": "stream",
     "text": [
      "[[18. 25. 12.]\n",
      " [30. 46. 16.]]\n"
     ]
    }
   ],
   "source": [
    "\n",
    "# Las primeras 3 lineas de codigo son para generar nuestra grafica computacional\n",
    "#-----------------------------------------\n",
    "a=tf.placeholder(tf.float32, shape=(2,2))\n",
    "b=tf.placeholder(tf.float32, shape=(2,3))\n",
    "mult=tf.matmul(a,b)\n",
    "\n",
    "# Las siguientes lineas de codigo son para correr nuestra grafica computacional\n",
    "#-----------------------------------------\n",
    "init=tf.global_variables_initializer()\n",
    "sess=tf.Session()\n",
    "sess.run(init)\n",
    "print(sess.run(mult,feed_dict={a:[[1,2],[2,2]],b:[[12,21,4],[3,2,4]] }))"
   ]
  },
  {
   "cell_type": "markdown",
   "metadata": {},
   "source": [
    " ***Producto punto entre 2 vectores R3***"
   ]
  },
  {
   "cell_type": "code",
   "execution_count": 30,
   "metadata": {},
   "outputs": [
    {
     "name": "stdout",
     "output_type": "stream",
     "text": [
      "10.0\n"
     ]
    }
   ],
   "source": [
    "c=tf.placeholder(tf.float32, shape=(3))\n",
    "d=tf.placeholder(tf.float32, shape=(3))\n",
    "punto=tf.tensordot(c,d,1)\n",
    "init=tf.global_variables_initializer()\n",
    "sess=tf.Session()\n",
    "sess.run(init)\n",
    "print(sess.run(punto,feed_dict={c:[1,2,3],d:[3,2,1]}))"
   ]
  },
  {
   "cell_type": "code",
   "execution_count": null,
   "metadata": {},
   "outputs": [],
   "source": []
  },
  {
   "cell_type": "code",
   "execution_count": null,
   "metadata": {},
   "outputs": [],
   "source": []
  },
  {
   "cell_type": "code",
   "execution_count": null,
   "metadata": {},
   "outputs": [],
   "source": []
  },
  {
   "cell_type": "code",
   "execution_count": null,
   "metadata": {},
   "outputs": [],
   "source": []
  }
 ],
 "metadata": {
  "kernelspec": {
   "display_name": "Python 3",
   "language": "python",
   "name": "python3"
  },
  "language_info": {
   "codemirror_mode": {
    "name": "ipython",
    "version": 3
   },
   "file_extension": ".py",
   "mimetype": "text/x-python",
   "name": "python",
   "nbconvert_exporter": "python",
   "pygments_lexer": "ipython3",
   "version": "3.6.7"
  }
 },
 "nbformat": 4,
 "nbformat_minor": 2
}
